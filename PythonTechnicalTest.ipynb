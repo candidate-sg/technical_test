{
 "metadata": {
  "name": "",
  "signature": "sha256:e858c0cdcb04b6fd8afe70a2ff38cd408947780b17d7ba300a20dd5cc4cd5632"
 },
 "nbformat": 3,
 "nbformat_minor": 0,
 "worksheets": [
  {
   "cells": [
    {
     "cell_type": "heading",
     "level": 1,
     "metadata": {},
     "source": [
      "Python technical test"
     ]
    },
    {
     "cell_type": "markdown",
     "metadata": {},
     "source": [
      "Let's have a look at the data just downloaded from https://export.airconomy.com/candidates/"
     ]
    },
    {
     "cell_type": "markdown",
     "metadata": {},
     "source": [
      "* $ du -h \\*.bz2\n",
      "\n",
      "> 530M bookings.csv.bz2\n",
      "\n",
      "> 462M searches.csv.bz2\n",
      "\n",
      "* \u001b$ bzip2 -dc bookings.csv.bz2 | head\n",
      "\n",
      "> act_date           ^source^pos_ctry^pos_iata^pos_oid  ^rloc          ^cre_date           ^duration^distance^dep_port^dep_city^dep_ctry^arr_port^arr_city^arr_ctry^lst_port^lst_city^lst_ctry^ brd_port^brd_city^brd_ctry^off_port^off_city^off_ctry^mkt_port^mkt_city^mkt_ctry^intl^route          ^carrier^bkg_class^cab_class^brd_time           ^off_time           ^pax^year^month^oid      \n",
      "\n",
      "> 2013-03-05 00:00:00^1A    ^DE      ^a68dd7ae953c8acfb187a1af2dcbe123^1a11ae49fcbf545fd2afc1a24d88d2b7^ea65900e72d71f4626378e2ebd298267^2013-02-22 00:00:00^1708^0^ZRH     ^ZRH     ^CH      ^LHR     ^LON     ^GB      ^ZRH     ^ZRH     ^CH      ^LHR     ^LON     ^GB      ^ZRH     ^ZRH     ^CH      ^LHRZRH  ^LONZRH  ^CHGB    ^1^LHRZRH         ^VI^T        ^Y        ^2013-03-07 08:50:00^2013-03-07 11:33:37^-1^2013^3^NULL     \n",
      "\n",
      "> 2013-03-26 00:00:00^1A    ^US      ^e612b9eeeee6f17f42d9b0d3b79e75ca^7437560d8f276d6d05eeb806d9e7edee^737295a86982c941f1c2da9a46a14043^2013-03-26 00:00:00^135270^0^SAL     ^SAL     ^SV      ^CLT     ^CLT     ^US      ^SAL     ^SAL     ^SV      ^SAL     ^SAL     ^SV      ^CLT     ^CLT     ^US      ^CLTSAL  ^CLTSAL  ^SVUS    ^1^SALATLCLT      ^NV^L        ^Y        ^2013-04-12 13:04:00^2013-04-12 22:05:40^1^2013^3^NULL     \n",
      "\n",
      "> 2013-03-26 00:00:00^1A    ^US      ^e612b9eeeee6f17f42d9b0d3b79e75ca^7437560d8f276d6d05eeb806d9e7edee^737295a86982c941f1c2da9a46a14043^2013-03-26 00:00:00^135270^0^SAL     ^SAL     ^SV      ^CLT     ^CLT     ^US      ^SAL     ^SAL     ^SV      ^CLT     ^CLT     ^US      ^SAL     ^SAL     ^SV      ^CLTSAL  ^CLTSAL  ^SVUS    ^1^CLTATLSAL      ^NV^U        ^Y        ^2013-07-15 07:00:00^2013-07-15 11:34:51^1^2013^3^NULL     \n",
      "\n",
      "* $ bzip2 -dc searches.csv.bz2 | head\n",
      "\n",
      "> Date^Time^TxnCode^OfficeID^Country^Origin^Destination^RoundTrip^NbSegments^Seg1Departure^Seg1Arrival ^Seg1Date^Seg1Carrier^Seg1BookingCode^Seg2Departure^Seg2Arrival^Seg2Date^Seg2Carrier^Seg2BookingCode ^Seg3Departure^Seg3Arrival^Seg3Date^Seg3Carrier^Seg3BookingCode^Seg4Departure^Seg4Arrival^Seg4Date ^Seg4Carrier^Seg4BookingCode^Seg5Departure^Seg5Arrival^Seg5Date^Seg5Carrier^Seg5BookingCode^ Seg6Departure^Seg6Arrival^Seg6Date^Seg6Carrier^Seg6BookingCode^From^IsPublishedForNeg^IsFromInternet^ IsFromVista^TerminalID^InternetOffice\n",
      "\n",
      "> 2013-01-01^20:25:57^MPT^624d8c3ac0b3a7ca03e3c167e0f48327^DE^TXL^AUH^1^2^TXL^AUH^2013-01-26^D2^^AUH^ TXL^2013-02-02^D2^^^^^^^^^^^^^^^^^^^^^^1ASIWS^0^0^0^d41d8cd98f00b204e9800998ecf8427e^FRA\n",
      "\n",
      "> 2013-01-01^10:15:33^MPT^b0af35b31588dc4ab06d5cf2986e8e02^MD^ATH^MIL^0^1^ATH^MIL^2013-01-04^^^^^^^^^^ ^^^^^^^^^^^^^^^^^^1ASIWS^0^0^0^d41d8cd98f00b204e9800998ecf8427e^KIV\n",
      "\n",
      "> 2013-01-01^18:04:49^MPT^3561a60621de06ab1badc8ca55699ef3^US^ICT^SFO^1^2^ICT^SFO^2013-08-02^^^SFO^ICT^ 2013-08-09^^^^^^^^^^^^^^^^^^^^^^^1ASIWS^0^0^0^d41d8cd98f00b204e9800998ecf8427e^NYC\n",
      "\u001b\n",
      "\n",
      "* $ bzip2 -dc bookings.csv.bz2 | wc -l\n",
      "\n",
      "> 10000011\n",
      "\n",
      "* $ bzip2 -dc searches.csv.bz2 | wc -l\n",
      "\n",
      "> 20390198\u001b\n",
      "\u001b"
     ]
    },
    {
     "cell_type": "markdown",
     "metadata": {},
     "source": [
      "Ok so we have a 10 and a 20 millions line CSV files with ^ as a separator, approx. 500 M each in compressed format"
     ]
    },
    {
     "cell_type": "heading",
     "level": 1,
     "metadata": {},
     "source": [
      "First exercise:"
     ]
    },
    {
     "cell_type": "markdown",
     "metadata": {},
     "source": [
      "If we know the file format, and if each line is exactly the same fixed size, one easy and fast way to count the number of lines without actualy opening the file is to divide the size of the file by the size of a line. Unfortunately this does not seem to be the case here.\n",
      "\n",
      "Let's read the file in compressed format ..."
     ]
    },
    {
     "cell_type": "code",
     "collapsed": false,
     "input": [
      "import bz2\n",
      "\n",
      "for f in ('bookings.csv.bz2' , 'searches.csv.bz2'):\n",
      "    try:\n",
      "        print \"%s : %s\" % (f,sum(1 for l in bz2.BZ2File(f)))\n",
      "    except IOError:\n",
      "        print 'Error while processing file %s' % f"
     ],
     "language": "python",
     "metadata": {},
     "outputs": [
      {
       "output_type": "stream",
       "stream": "stdout",
       "text": [
        "bookings.csv.bz2 : 10000011\n",
        "searches.csv.bz2 : 20390199"
       ]
      },
      {
       "output_type": "stream",
       "stream": "stdout",
       "text": [
        "\n"
       ]
      }
     ],
     "prompt_number": 1
    },
    {
     "cell_type": "markdown",
     "metadata": {},
     "source": [
      "There is a difference of 1 in the count between unix wc and the python code (searches file). This is  because the last line in the searches file is not ending with a newline, and so not being interpreted the same way."
     ]
    },
    {
     "cell_type": "heading",
     "level": 1,
     "metadata": {},
     "source": [
      "Second exercise:"
     ]
    },
    {
     "cell_type": "markdown",
     "metadata": {},
     "source": [
      "Let's start with a \"load all data at once\" code ... if the memory usage becomes an issue, we may have to come back with another version which iterates over the input file using read_csv's arg 'chuncksize' ..."
     ]
    },
    {
     "cell_type": "code",
     "collapsed": false,
     "input": [
      "%matplotlib inline\n",
      "\n",
      "import pandas\n",
      "\n",
      "bookings_data = pandas.read_csv ( 'bookings.csv.bz2' , \n",
      "                                 compression='bz2', \n",
      "                                 sep='^', \n",
      "                                 usecols=['year','arr_port','pax'])\n",
      "\n",
      "# Filter only year 2013\n",
      "bookings_data = bookings_data [ (bookings_data.year) == 2013 ]\n",
      "\n",
      "# sum on the arr_port ... and sort on pax, get the top 10\n",
      "bookings_data = bookings_data.groupby(['arr_port','year']).sum().sort('pax',ascending=False)[:10]\n"
     ],
     "language": "python",
     "metadata": {},
     "outputs": [],
     "prompt_number": 17
    },
    {
     "cell_type": "code",
     "collapsed": false,
     "input": [
      "bookings_data\n"
     ],
     "language": "python",
     "metadata": {},
     "outputs": [
      {
       "html": [
        "<div style=\"max-height:1000px;max-width:1500px;overflow:auto;\">\n",
        "<table border=\"1\" class=\"dataframe\">\n",
        "  <thead>\n",
        "    <tr style=\"text-align: right;\">\n",
        "      <th></th>\n",
        "      <th></th>\n",
        "      <th>pax</th>\n",
        "    </tr>\n",
        "    <tr>\n",
        "      <th>arr_port</th>\n",
        "      <th>year</th>\n",
        "      <th></th>\n",
        "    </tr>\n",
        "  </thead>\n",
        "  <tbody>\n",
        "    <tr>\n",
        "      <th>LHR     </th>\n",
        "      <th>2013</th>\n",
        "      <td> 88809</td>\n",
        "    </tr>\n",
        "    <tr>\n",
        "      <th>MCO     </th>\n",
        "      <th>2013</th>\n",
        "      <td> 70930</td>\n",
        "    </tr>\n",
        "    <tr>\n",
        "      <th>LAX     </th>\n",
        "      <th>2013</th>\n",
        "      <td> 70530</td>\n",
        "    </tr>\n",
        "    <tr>\n",
        "      <th>LAS     </th>\n",
        "      <th>2013</th>\n",
        "      <td> 69630</td>\n",
        "    </tr>\n",
        "    <tr>\n",
        "      <th>JFK     </th>\n",
        "      <th>2013</th>\n",
        "      <td> 66270</td>\n",
        "    </tr>\n",
        "    <tr>\n",
        "      <th>CDG     </th>\n",
        "      <th>2013</th>\n",
        "      <td> 64490</td>\n",
        "    </tr>\n",
        "    <tr>\n",
        "      <th>BKK     </th>\n",
        "      <th>2013</th>\n",
        "      <td> 59460</td>\n",
        "    </tr>\n",
        "    <tr>\n",
        "      <th>MIA     </th>\n",
        "      <th>2013</th>\n",
        "      <td> 58150</td>\n",
        "    </tr>\n",
        "    <tr>\n",
        "      <th>SFO     </th>\n",
        "      <th>2013</th>\n",
        "      <td> 58000</td>\n",
        "    </tr>\n",
        "    <tr>\n",
        "      <th>DXB     </th>\n",
        "      <th>2013</th>\n",
        "      <td> 55590</td>\n",
        "    </tr>\n",
        "  </tbody>\n",
        "</table>\n",
        "</div>"
       ],
       "metadata": {},
       "output_type": "pyout",
       "prompt_number": 18,
       "text": [
        "                 pax\n",
        "arr_port year       \n",
        "LHR      2013  88809\n",
        "MCO      2013  70930\n",
        "LAX      2013  70530\n",
        "LAS      2013  69630\n",
        "JFK      2013  66270\n",
        "CDG      2013  64490\n",
        "BKK      2013  59460\n",
        "MIA      2013  58150\n",
        "SFO      2013  58000\n",
        "DXB      2013  55590"
       ]
      }
     ],
     "prompt_number": 18
    },
    {
     "cell_type": "markdown",
     "metadata": {},
     "source": [
      "Let's now try to win the bonus point ... i've found a convenient iata code/city mapping file here : https://sourceforge.net/p/openflights/code/HEAD/tree/openflights/data/airports.dat?format=raw let's download and pandify it"
     ]
    },
    {
     "cell_type": "code",
     "collapsed": false,
     "input": [
      "import pandas\n",
      "\n",
      "airports_data = pandas.read_csv ( 'airports.dat',\n",
      "                                 sep=',',\n",
      "                                 usecols=(1,2,3,4),\n",
      "                                 names=('airport','city','country','arr_port'))\n",
      "\n",
      "print airports_data[:5]"
     ],
     "language": "python",
     "metadata": {},
     "outputs": [
      {
       "output_type": "stream",
       "stream": "stdout",
       "text": [
        "                      airport          city           country arr_port\n",
        "0                      Goroka        Goroka  Papua New Guinea      GKA\n",
        "1                      Madang        Madang  Papua New Guinea      MAG\n",
        "2                 Mount Hagen   Mount Hagen  Papua New Guinea      HGU\n",
        "3                      Nadzab        Nadzab  Papua New Guinea      LAE\n",
        "4  Port Moresby Jacksons Intl  Port Moresby  Papua New Guinea      POM\n"
       ]
      }
     ],
     "prompt_number": 19
    },
    {
     "cell_type": "markdown",
     "metadata": {},
     "source": [
      "Integrate this with the previous code:"
     ]
    },
    {
     "cell_type": "code",
     "collapsed": false,
     "input": [
      "import pandas\n",
      "\n",
      "airports_data = pandas.read_csv ( 'airports.dat',\n",
      "                                 sep=',',\n",
      "                                 usecols=(1,2,3,4),\n",
      "                                 names=('airport','city','country','arr_port')\n",
      "                                 )\n",
      "\n",
      "bookings_data = pandas.read_csv ( 'bookings.csv.bz2' , \n",
      "                                 compression='bz2', \n",
      "                                 sep='^', \n",
      "                                 nrows=1000,\n",
      "                                 usecols=['year','arr_port','pax'])\n",
      "\n",
      "# Filter only year 2013\n",
      "bookings_data = bookings_data [ (bookings_data.year) == 2013 ]\n",
      "\n",
      "# sum on the arr_port ... and sort on pax, get the top 10.\n",
      "# added \"as_index=False\"\n",
      "bookings_data = bookings_data.groupby(['arr_port','year'], as_index=False).sum().sort(('pax'),ascending=False)[:10]\n",
      "\n",
      "print pandas.merge(bookings_data,airports_data,on='arr_port',how='left')"
     ],
     "language": "python",
     "metadata": {},
     "outputs": [
      {
       "output_type": "stream",
       "stream": "stdout",
       "text": [
        "   arr_port  year  pax airport city country\n",
        "0  DCA       2013   50     NaN  NaN     NaN\n",
        "1  JFK       2013   14     NaN  NaN     NaN\n",
        "2  FLL       2013   13     NaN  NaN     NaN\n",
        "3  PVG       2013   13     NaN  NaN     NaN\n",
        "4  CGK       2013   12     NaN  NaN     NaN\n",
        "5  LGA       2013   12     NaN  NaN     NaN\n",
        "6  SVO       2013   12     NaN  NaN     NaN\n",
        "7  LAS       2013   11     NaN  NaN     NaN\n",
        "8  BOS       2013   11     NaN  NaN     NaN\n",
        "9  MIA       2013   11     NaN  NaN     NaN\n"
       ]
      }
     ],
     "prompt_number": 21
    },
    {
     "cell_type": "markdown",
     "metadata": {},
     "source": [
      "This should work ... the only reason i can imagine for this join to fail like this is an encoding or striping issue on the arr_port column. Let's strip it ... and btw check that the result is coherent with previous top 10 !"
     ]
    },
    {
     "cell_type": "code",
     "collapsed": false,
     "input": [
      "import pandas\n",
      "\n",
      "airports_data = pandas.read_csv ( 'airports.dat',\n",
      "                                 sep=',',\n",
      "                                 usecols=(1,2,3,4),\n",
      "                                 names=('airport','city','country','arr_port')\n",
      "                                 )\n",
      "\n",
      "bookings_data = pandas.read_csv ( 'bookings.csv.bz2' , \n",
      "                                 compression='bz2', \n",
      "                                 sep='^', \n",
      "                                 usecols=['year','arr_port','pax'])\n",
      "\n",
      "# Filter only year 2013\n",
      "bookings_data = bookings_data [ (bookings_data.year) == 2013 ]\n",
      "\n",
      "# strip on \"arr_port\". btw this could change the top10 and should have been coded previously. my bad.\n",
      "bookings_data['arr_port'] = bookings_data['arr_port'].map(str.strip)\n",
      "\n",
      "# sum on the arr_port ... and sort on pax, get the top 10.\n",
      "# added \"as_index=False\"\n",
      "bookings_data = bookings_data.groupby(['arr_port','year'], as_index=False).sum().sort(('pax'),ascending=False)[:10]\n",
      "\n",
      "print pandas.merge(bookings_data,airports_data,on='arr_port',how='left')"
     ],
     "language": "python",
     "metadata": {},
     "outputs": [
      {
       "output_type": "stream",
       "stream": "stdout",
       "text": [
        "  arr_port  year    pax              airport           city  \\\n",
        "0      LHR  2013  88809             Heathrow         London   \n",
        "1      MCO  2013  70930         Orlando Intl        Orlando   \n",
        "2      LAX  2013  70530     Los Angeles Intl    Los Angeles   \n",
        "3      LAS  2013  69630       Mc Carran Intl      Las Vegas   \n",
        "4      JFK  2013  66270  John F Kennedy Intl       New York   \n",
        "5      CDG  2013  64490    Charles De Gaulle          Paris   \n",
        "6      BKK  2013  59460    Suvarnabhumi Intl        Bangkok   \n",
        "7      MIA  2013  58150           Miami Intl          Miami   \n",
        "8      SFO  2013  58000   San Francisco Intl  San Francisco   \n",
        "9      DXB  2013  55590           Dubai Intl          Dubai   \n",
        "\n",
        "                country  \n",
        "0        United Kingdom  \n",
        "1         United States  \n",
        "2         United States  \n",
        "3         United States  \n",
        "4         United States  \n",
        "5                France  \n",
        "6              Thailand  \n",
        "7         United States  \n",
        "8         United States  \n",
        "9  United Arab Emirates  \n"
       ]
      }
     ],
     "prompt_number": 1
    },
    {
     "cell_type": "markdown",
     "metadata": {},
     "source": [
      "Ok the output could be nicer but we have the requested information. That's all for today ..."
     ]
    },
    {
     "cell_type": "heading",
     "level": 1,
     "metadata": {},
     "source": [
      "Third Exercise"
     ]
    },
    {
     "cell_type": "code",
     "collapsed": false,
     "input": [
      "%matplotlib inline\n",
      "import pandas\n",
      "\n",
      "cities = ('Malaga','Madrid','Barcelona')\n",
      "\n",
      "# extract Date and Destination columns only from the searches file\n",
      "searches_data = pandas.read_csv ( 'searches.csv.bz2' , \n",
      "                                 compression='bz2', \n",
      "                                 sep='^', \n",
      "                                 usecols=['Date','Destination'])\n",
      "\n",
      "# Build a list of codes for Malaga, Madrid and Barcelona: \n",
      "airports_data = pandas.read_csv ( 'airports.dat',\n",
      "                                 sep=',',\n",
      "                                 usecols=(2,4),\n",
      "                                 names=('city','Destination')\n",
      "                                 )\n",
      "# filter out void data\n",
      "airports_data = airports_data [ airports_data.Destination.notnull() ]\n",
      "\n",
      "airports = airports_data [ airports_data.city.isin(cities)]\n",
      "\n",
      "#print airports_data\n",
      "#           city Destination\n",
      "#1195  Barcelona         BCN\n",
      "#1206     Madrid         MAD\n",
      "#1207     Malaga         AGP\n",
      "#1222     Madrid         TOJ\n",
      "#2748  Barcelona         BLA\n",
      "\n",
      "# Two different codes for Madrid and Barcelona ! \n",
      "\n",
      "# Join on the 5 airport code:\n",
      "searches_data = pandas.merge(searches_data,airports,on='Destination',how='right')\n",
      "\n",
      "# Remove the day of month for later sum. We assume the date is always YYYY-MM-DD\n",
      "searches_data['Date']=searches_data['Date'].map(lambda d : str(d)[:7])\n",
      "\n",
      "# Now drop the useless Destination col\n",
      "searches_data=searches_data.drop(['Destination'],axis=1)\n",
      "\n",
      "# Create a col for the sum:\n",
      "for c in cities:\n",
      "    searches_data.ix[searches_data.city == c , c] = 1 \n",
      "\n",
      "# We are done with city col ... drop it !\n",
      "searches_data=searches_data.drop(['city'],axis=1)\n",
      "\n",
      "# Groupby, aggregate and sum\n",
      "searches_data=searches_data.groupby(['Date'],).aggregate(sum)\n",
      "\n",
      "searches_data.plot()\n",
      "\n",
      "searches_data\n"
     ],
     "language": "python",
     "metadata": {},
     "outputs": [
      {
       "html": [
        "<div style=\"max-height:1000px;max-width:1500px;overflow:auto;\">\n",
        "<table border=\"1\" class=\"dataframe\">\n",
        "  <thead>\n",
        "    <tr style=\"text-align: right;\">\n",
        "      <th></th>\n",
        "      <th>Malaga</th>\n",
        "      <th>Madrid</th>\n",
        "      <th>Barcelona</th>\n",
        "    </tr>\n",
        "    <tr>\n",
        "      <th>Date</th>\n",
        "      <th></th>\n",
        "      <th></th>\n",
        "      <th></th>\n",
        "    </tr>\n",
        "  </thead>\n",
        "  <tbody>\n",
        "    <tr>\n",
        "      <th>2013-01</th>\n",
        "      <td>  9633</td>\n",
        "      <td> 24258</td>\n",
        "      <td> 29526</td>\n",
        "    </tr>\n",
        "    <tr>\n",
        "      <th>2013-02</th>\n",
        "      <td>  8379</td>\n",
        "      <td> 22800</td>\n",
        "      <td> 28329</td>\n",
        "    </tr>\n",
        "    <tr>\n",
        "      <th>2013-03</th>\n",
        "      <td> 10659</td>\n",
        "      <td> 24681</td>\n",
        "      <td> 30609</td>\n",
        "    </tr>\n",
        "    <tr>\n",
        "      <th>2013-04</th>\n",
        "      <td>  8265</td>\n",
        "      <td> 25251</td>\n",
        "      <td> 31293</td>\n",
        "    </tr>\n",
        "    <tr>\n",
        "      <th>2013-05</th>\n",
        "      <td> 10830</td>\n",
        "      <td> 26334</td>\n",
        "      <td> 28728</td>\n",
        "    </tr>\n",
        "    <tr>\n",
        "      <th>2013-06</th>\n",
        "      <td>  7923</td>\n",
        "      <td> 22800</td>\n",
        "      <td> 26562</td>\n",
        "    </tr>\n",
        "    <tr>\n",
        "      <th>2013-07</th>\n",
        "      <td>  8892</td>\n",
        "      <td> 22971</td>\n",
        "      <td> 29298</td>\n",
        "    </tr>\n",
        "    <tr>\n",
        "      <th>2013-08</th>\n",
        "      <td>  7866</td>\n",
        "      <td> 21888</td>\n",
        "      <td> 27360</td>\n",
        "    </tr>\n",
        "    <tr>\n",
        "      <th>2013-09</th>\n",
        "      <td>  8151</td>\n",
        "      <td> 21204</td>\n",
        "      <td> 23655</td>\n",
        "    </tr>\n",
        "    <tr>\n",
        "      <th>2013-10</th>\n",
        "      <td>  6499</td>\n",
        "      <td> 22294</td>\n",
        "      <td> 20276</td>\n",
        "    </tr>\n",
        "    <tr>\n",
        "      <th>2013-11</th>\n",
        "      <td>  6384</td>\n",
        "      <td> 20272</td>\n",
        "      <td> 19880</td>\n",
        "    </tr>\n",
        "    <tr>\n",
        "      <th>2013-12</th>\n",
        "      <td>  3696</td>\n",
        "      <td> 14504</td>\n",
        "      <td> 15512</td>\n",
        "    </tr>\n",
        "  </tbody>\n",
        "</table>\n",
        "</div>"
       ],
       "metadata": {},
       "output_type": "pyout",
       "prompt_number": 2,
       "text": [
        "         Malaga  Madrid  Barcelona\n",
        "Date                              \n",
        "2013-01    9633   24258      29526\n",
        "2013-02    8379   22800      28329\n",
        "2013-03   10659   24681      30609\n",
        "2013-04    8265   25251      31293\n",
        "2013-05   10830   26334      28728\n",
        "2013-06    7923   22800      26562\n",
        "2013-07    8892   22971      29298\n",
        "2013-08    7866   21888      27360\n",
        "2013-09    8151   21204      23655\n",
        "2013-10    6499   22294      20276\n",
        "2013-11    6384   20272      19880\n",
        "2013-12    3696   14504      15512"
       ]
      },
      {
       "metadata": {},
       "output_type": "display_data",
       "png": "[encoded data removed]",
       "text": [
        "<matplotlib.figure.Figure at 0x1a446a10>"
       ]
      }
     ],
     "prompt_number": 2
    },
    {
     "cell_type": "code",
     "collapsed": false,
     "input": [
      "Let's check this result with a simple unix command:\n",
      "\n",
      "bzip2 -dc searches.csv.bz2  | cut -d'^' -f1,7 | egrep 'MAD$|BCN$|AGP$|TOJ$|BLA$' | sed 's/TOJ/MAD/g' | sed 's/BLA/BCN/g' | cut -c \n",
      "1-7,12- | sort | uniq -c | awk '{print $2 , $1}' | sed 's/AGP/ Malaga/g' | sed 's/MAD/ Madrid/g' | sed 's/BCN/ Barcelona/g'\n",
      "2013-01 Malaga 9633\n",
      "2013-01 Barcelona 29526\n",
      "2013-01 Madrid 24258\n",
      "2013-02 Malaga 8379\n",
      "2013-02 Barcelona 28329\n",
      "2013-02 Madrid 22800\n",
      "2013-03 Malaga 10659\n",
      "2013-03 Barcelona 30609\n",
      "2013-03 Madrid 24681\n",
      "2013-04 Malaga 8265\n",
      "2013-04 Barcelona 31293\n",
      "2013-04 Madrid 25251\n",
      "2013-05 Malaga 10830\n",
      "2013-05 Barcelona 28728\n",
      "2013-05 Madrid 26334\n",
      "2013-06 Malaga 7923\n",
      "2013-06 Barcelona 26562\n",
      "2013-06 Madrid 22800\n",
      "2013-07 Malaga 8892\n",
      "2013-07 Barcelona 29298\n",
      "2013-07 Madrid 22971\n",
      "2013-08 Malaga 7866\n",
      "2013-08 Barcelona 27360\n",
      "2013-08 Madrid 21888\n",
      "2013-09 Malaga 8151\n",
      "2013-09 Barcelona 23655\n",
      "2013-09 Madrid 21204\n",
      "2013-10 Malaga 6499\n",
      "2013-10 Barcelona 20276\n",
      "2013-10 Madrid 22294\n",
      "2013-11 Malaga 6384\n",
      "2013-11 Barcelona 19880\n",
      "2013-11 Madrid 20272\n",
      "2013-12 Malaga 3696\n",
      "2013-12 Barcelona 15512\n",
      "2013-12 Madrid 14504\n",
      "\n",
      "Results are the same. \n",
      "\n",
      "That's all for today ... no sure to have time for the bonus questions :("
     ],
     "language": "python",
     "metadata": {},
     "outputs": []
    },
    {
     "cell_type": "markdown",
     "metadata": {},
     "source": []
    }
   ],
   "metadata": {}
  }
 ]
}